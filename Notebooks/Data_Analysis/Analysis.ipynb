{
 "cells": [
  {
   "attachments": {},
   "cell_type": "markdown",
   "metadata": {},
   "source": [
    "# Data Analysis\n",
    "#### Data Analysis for the Stackoverflow developer survey data (2018-2022)"
   ]
  },
  {
   "cell_type": "code",
   "execution_count": 1,
   "metadata": {},
   "outputs": [],
   "source": [
    "import pandas as pd\n",
    "import numpy as np\n",
    "import seaborn as sns\n",
    "import matplotlib.pyplot as plt\n",
    "import os"
   ]
  },
  {
   "cell_type": "markdown",
   "metadata": {},
   "source": [
    "### Merge All the CSV into one"
   ]
  },
  {
   "cell_type": "code",
   "execution_count": 146,
   "metadata": {},
   "outputs": [
    {
     "data": {
      "text/plain": [
       "(137290, 10)"
      ]
     },
     "execution_count": 146,
     "metadata": {},
     "output_type": "execute_result"
    }
   ],
   "source": [
    "combined_df = pd.DataFrame()\n",
    "for file in os.listdir(\"../../Data/CleanData/\"):\n",
    "    df = pd.read_csv(f\"../../Data/CleanData/{file}\")\n",
    "    combined_df = pd.concat([combined_df, df], axis=0)\n",
    "combined_df = combined_df.reset_index(drop=True)\n",
    "combined_df.shape"
   ]
  },
  {
   "cell_type": "code",
   "execution_count": 147,
   "metadata": {},
   "outputs": [
    {
     "data": {
      "text/html": [
       "<div>\n",
       "<style scoped>\n",
       "    .dataframe tbody tr th:only-of-type {\n",
       "        vertical-align: middle;\n",
       "    }\n",
       "\n",
       "    .dataframe tbody tr th {\n",
       "        vertical-align: top;\n",
       "    }\n",
       "\n",
       "    .dataframe thead th {\n",
       "        text-align: right;\n",
       "    }\n",
       "</style>\n",
       "<table border=\"1\" class=\"dataframe\">\n",
       "  <thead>\n",
       "    <tr style=\"text-align: right;\">\n",
       "      <th></th>\n",
       "      <th>Employment</th>\n",
       "      <th>EdLevel</th>\n",
       "      <th>DevType</th>\n",
       "      <th>Country</th>\n",
       "      <th>Currency</th>\n",
       "      <th>AnnualSalary</th>\n",
       "      <th>CompFreq</th>\n",
       "      <th>LanguageHaveWorkedWith</th>\n",
       "      <th>LanguageWantToWorkWith</th>\n",
       "      <th>Year</th>\n",
       "    </tr>\n",
       "  </thead>\n",
       "  <tbody>\n",
       "    <tr>\n",
       "      <th>0</th>\n",
       "      <td>Employed full-time</td>\n",
       "      <td>Bachelor’s degree</td>\n",
       "      <td>['Database administrator', 'DevOps specialist'...</td>\n",
       "      <td>United Kingdom</td>\n",
       "      <td>GBP</td>\n",
       "      <td>70841.0</td>\n",
       "      <td>Yearly</td>\n",
       "      <td>['JavaScript', 'Python', 'Bash/Shell']</td>\n",
       "      <td>['Go', 'Python']</td>\n",
       "      <td>2018</td>\n",
       "    </tr>\n",
       "    <tr>\n",
       "      <th>1</th>\n",
       "      <td>Employed full-time</td>\n",
       "      <td>Some college/university study without earning ...</td>\n",
       "      <td>['Data or business analyst', 'Desktop or enter...</td>\n",
       "      <td>South Africa</td>\n",
       "      <td>ZAR</td>\n",
       "      <td>21426.0</td>\n",
       "      <td>Yearly</td>\n",
       "      <td>['C', 'C++', 'Java', 'Matlab', 'R', 'SQL', 'Ba...</td>\n",
       "      <td>['Assembly', 'C', 'C++', 'Matlab', 'SQL', 'Bas...</td>\n",
       "      <td>2018</td>\n",
       "    </tr>\n",
       "    <tr>\n",
       "      <th>2</th>\n",
       "      <td>Employed full-time</td>\n",
       "      <td>Some college/university study without earning ...</td>\n",
       "      <td>['Back-end developer', 'Front-end developer', ...</td>\n",
       "      <td>United States</td>\n",
       "      <td>USD</td>\n",
       "      <td>120000.0</td>\n",
       "      <td>Yearly</td>\n",
       "      <td>['JavaScript', 'HTML', 'CSS']</td>\n",
       "      <td>['C', 'Go', 'JavaScript', 'Python', 'HTML', 'C...</td>\n",
       "      <td>2018</td>\n",
       "    </tr>\n",
       "    <tr>\n",
       "      <th>3</th>\n",
       "      <td>Employed full-time</td>\n",
       "      <td>Some college/university study without earning ...</td>\n",
       "      <td>['Back-end developer', 'C-suite executive (CEO...</td>\n",
       "      <td>United States</td>\n",
       "      <td>USD</td>\n",
       "      <td>250000.0</td>\n",
       "      <td>Yearly</td>\n",
       "      <td>['Assembly', 'CoffeeScript', 'Erlang', 'Go', '...</td>\n",
       "      <td>['Erlang', 'Go', 'Python', 'Rust', 'SQL']</td>\n",
       "      <td>2018</td>\n",
       "    </tr>\n",
       "    <tr>\n",
       "      <th>4</th>\n",
       "      <td>Employed full-time</td>\n",
       "      <td>Master’s degree</td>\n",
       "      <td>['Back-end developer']</td>\n",
       "      <td>Sweden</td>\n",
       "      <td>SEK</td>\n",
       "      <td>47904.0</td>\n",
       "      <td>Monthly</td>\n",
       "      <td>['C#', 'SQL', 'HTML', 'CSS', 'Bash/Shell']</td>\n",
       "      <td>['C#', 'F#', 'Haskell', 'SQL', 'Ocaml']</td>\n",
       "      <td>2018</td>\n",
       "    </tr>\n",
       "  </tbody>\n",
       "</table>\n",
       "</div>"
      ],
      "text/plain": [
       "           Employment                                            EdLevel  \\\n",
       "0  Employed full-time                                  Bachelor’s degree   \n",
       "1  Employed full-time  Some college/university study without earning ...   \n",
       "2  Employed full-time  Some college/university study without earning ...   \n",
       "3  Employed full-time  Some college/university study without earning ...   \n",
       "4  Employed full-time                                    Master’s degree   \n",
       "\n",
       "                                             DevType         Country Currency  \\\n",
       "0  ['Database administrator', 'DevOps specialist'...  United Kingdom      GBP   \n",
       "1  ['Data or business analyst', 'Desktop or enter...    South Africa      ZAR   \n",
       "2  ['Back-end developer', 'Front-end developer', ...   United States      USD   \n",
       "3  ['Back-end developer', 'C-suite executive (CEO...   United States      USD   \n",
       "4                             ['Back-end developer']          Sweden      SEK   \n",
       "\n",
       "   AnnualSalary CompFreq                             LanguageHaveWorkedWith  \\\n",
       "0       70841.0   Yearly             ['JavaScript', 'Python', 'Bash/Shell']   \n",
       "1       21426.0   Yearly  ['C', 'C++', 'Java', 'Matlab', 'R', 'SQL', 'Ba...   \n",
       "2      120000.0   Yearly                      ['JavaScript', 'HTML', 'CSS']   \n",
       "3      250000.0   Yearly  ['Assembly', 'CoffeeScript', 'Erlang', 'Go', '...   \n",
       "4       47904.0  Monthly         ['C#', 'SQL', 'HTML', 'CSS', 'Bash/Shell']   \n",
       "\n",
       "                              LanguageWantToWorkWith  Year  \n",
       "0                                   ['Go', 'Python']  2018  \n",
       "1  ['Assembly', 'C', 'C++', 'Matlab', 'SQL', 'Bas...  2018  \n",
       "2  ['C', 'Go', 'JavaScript', 'Python', 'HTML', 'C...  2018  \n",
       "3          ['Erlang', 'Go', 'Python', 'Rust', 'SQL']  2018  \n",
       "4            ['C#', 'F#', 'Haskell', 'SQL', 'Ocaml']  2018  "
      ]
     },
     "execution_count": 147,
     "metadata": {},
     "output_type": "execute_result"
    }
   ],
   "source": [
    "combined_df.head()"
   ]
  },
  {
   "cell_type": "code",
   "execution_count": null,
   "metadata": {},
   "outputs": [],
   "source": []
  },
  {
   "attachments": {},
   "cell_type": "markdown",
   "metadata": {},
   "source": [
    "### Overview of Developers by Country"
   ]
  },
  {
   "cell_type": "code",
   "execution_count": 148,
   "metadata": {},
   "outputs": [
    {
     "data": {
      "text/html": [
       "<div>\n",
       "<style scoped>\n",
       "    .dataframe tbody tr th:only-of-type {\n",
       "        vertical-align: middle;\n",
       "    }\n",
       "\n",
       "    .dataframe tbody tr th {\n",
       "        vertical-align: top;\n",
       "    }\n",
       "\n",
       "    .dataframe thead th {\n",
       "        text-align: right;\n",
       "    }\n",
       "</style>\n",
       "<table border=\"1\" class=\"dataframe\">\n",
       "  <thead>\n",
       "    <tr style=\"text-align: right;\">\n",
       "      <th></th>\n",
       "      <th>Country</th>\n",
       "      <th>No_Devs</th>\n",
       "    </tr>\n",
       "  </thead>\n",
       "  <tbody>\n",
       "    <tr>\n",
       "      <th>0</th>\n",
       "      <td>United States</td>\n",
       "      <td>28548</td>\n",
       "    </tr>\n",
       "    <tr>\n",
       "      <th>1</th>\n",
       "      <td>United States of America</td>\n",
       "      <td>16684</td>\n",
       "    </tr>\n",
       "    <tr>\n",
       "      <th>2</th>\n",
       "      <td>India</td>\n",
       "      <td>9584</td>\n",
       "    </tr>\n",
       "    <tr>\n",
       "      <th>3</th>\n",
       "      <td>United Kingdom</td>\n",
       "      <td>8613</td>\n",
       "    </tr>\n",
       "    <tr>\n",
       "      <th>4</th>\n",
       "      <td>Germany</td>\n",
       "      <td>8145</td>\n",
       "    </tr>\n",
       "  </tbody>\n",
       "</table>\n",
       "</div>"
      ],
      "text/plain": [
       "                    Country  No_Devs\n",
       "0             United States    28548\n",
       "1  United States of America    16684\n",
       "2                     India     9584\n",
       "3            United Kingdom     8613\n",
       "4                   Germany     8145"
      ]
     },
     "execution_count": 148,
     "metadata": {},
     "output_type": "execute_result"
    }
   ],
   "source": [
    "dev_by_country = combined_df.groupby(\"Country\").size()\\\n",
    "    .reset_index(name=\"No_Devs\").sort_values(by=\"No_Devs\", ascending=False).reset_index(drop=True)\n",
    "dev_by_country.head()\n"
   ]
  },
  {
   "attachments": {},
   "cell_type": "markdown",
   "metadata": {},
   "source": [
    "## Education Level and Salary\n",
    "Use the average AnnualSalary for each EdLevel to see of there is a relationship."
   ]
  },
  {
   "cell_type": "code",
   "execution_count": 149,
   "metadata": {},
   "outputs": [
    {
     "data": {
      "text/html": [
       "<div>\n",
       "<style scoped>\n",
       "    .dataframe tbody tr th:only-of-type {\n",
       "        vertical-align: middle;\n",
       "    }\n",
       "\n",
       "    .dataframe tbody tr th {\n",
       "        vertical-align: top;\n",
       "    }\n",
       "\n",
       "    .dataframe thead th {\n",
       "        text-align: right;\n",
       "    }\n",
       "</style>\n",
       "<table border=\"1\" class=\"dataframe\">\n",
       "  <thead>\n",
       "    <tr style=\"text-align: right;\">\n",
       "      <th></th>\n",
       "      <th>EdLevel</th>\n",
       "      <th>MeanSalary</th>\n",
       "    </tr>\n",
       "  </thead>\n",
       "  <tbody>\n",
       "    <tr>\n",
       "      <th>0</th>\n",
       "      <td>Associate degree</td>\n",
       "      <td>80651.505094</td>\n",
       "    </tr>\n",
       "    <tr>\n",
       "      <th>1</th>\n",
       "      <td>Bachelor’s degree</td>\n",
       "      <td>87499.211650</td>\n",
       "    </tr>\n",
       "    <tr>\n",
       "      <th>2</th>\n",
       "      <td>I never completed any formal education</td>\n",
       "      <td>77815.617577</td>\n",
       "    </tr>\n",
       "    <tr>\n",
       "      <th>3</th>\n",
       "      <td>Master’s degree</td>\n",
       "      <td>92399.707719</td>\n",
       "    </tr>\n",
       "    <tr>\n",
       "      <th>4</th>\n",
       "      <td>Other doctoral degree</td>\n",
       "      <td>120742.088731</td>\n",
       "    </tr>\n",
       "    <tr>\n",
       "      <th>5</th>\n",
       "      <td>Primary/elementary school</td>\n",
       "      <td>61259.919437</td>\n",
       "    </tr>\n",
       "    <tr>\n",
       "      <th>6</th>\n",
       "      <td>Professional degree</td>\n",
       "      <td>64883.347403</td>\n",
       "    </tr>\n",
       "    <tr>\n",
       "      <th>7</th>\n",
       "      <td>Secondary school</td>\n",
       "      <td>62861.564663</td>\n",
       "    </tr>\n",
       "    <tr>\n",
       "      <th>8</th>\n",
       "      <td>Some college/university study without earning ...</td>\n",
       "      <td>81360.607892</td>\n",
       "    </tr>\n",
       "    <tr>\n",
       "      <th>9</th>\n",
       "      <td>Something else</td>\n",
       "      <td>129635.650000</td>\n",
       "    </tr>\n",
       "  </tbody>\n",
       "</table>\n",
       "</div>"
      ],
      "text/plain": [
       "                                             EdLevel     MeanSalary\n",
       "0                                   Associate degree   80651.505094\n",
       "1                                  Bachelor’s degree   87499.211650\n",
       "2             I never completed any formal education   77815.617577\n",
       "3                                    Master’s degree   92399.707719\n",
       "4                              Other doctoral degree  120742.088731\n",
       "5                          Primary/elementary school   61259.919437\n",
       "6                                Professional degree   64883.347403\n",
       "7                                   Secondary school   62861.564663\n",
       "8  Some college/university study without earning ...   81360.607892\n",
       "9                                     Something else  129635.650000"
      ]
     },
     "execution_count": 149,
     "metadata": {},
     "output_type": "execute_result"
    }
   ],
   "source": [
    "edlevel_vs_salary = combined_df.groupby(\"EdLevel\")[\"AnnualSalary\"].mean().reset_index(name=\"MeanSalary\")\n",
    "edlevel_vs_salary"
   ]
  },
  {
   "attachments": {},
   "cell_type": "markdown",
   "metadata": {},
   "source": [
    "* We should drop the **\"Something else\"** category because it doesn't have any information as to the Education level of the developer under that group.\n",
    "* Then we'll order our data by the general progression of education levels based on the typical educational system in many countries.\n",
    "* Here's the ranking we'll use:\n",
    "\n",
    "    1. I never completed any formal education\n",
    "    2. Primary/elementary school\n",
    "    3. Secondary school\n",
    "    4. Some college/university study without earning a degree\n",
    "    5. Associate degree\n",
    "    6. Bachelor’s degree\n",
    "    7. Master’s degree\n",
    "    8. Professional degree\n",
    "    9. Other doctoral degree"
   ]
  },
  {
   "cell_type": "code",
   "execution_count": 150,
   "metadata": {},
   "outputs": [
    {
     "data": {
      "text/html": [
       "<div>\n",
       "<style scoped>\n",
       "    .dataframe tbody tr th:only-of-type {\n",
       "        vertical-align: middle;\n",
       "    }\n",
       "\n",
       "    .dataframe tbody tr th {\n",
       "        vertical-align: top;\n",
       "    }\n",
       "\n",
       "    .dataframe thead th {\n",
       "        text-align: right;\n",
       "    }\n",
       "</style>\n",
       "<table border=\"1\" class=\"dataframe\">\n",
       "  <thead>\n",
       "    <tr style=\"text-align: right;\">\n",
       "      <th></th>\n",
       "      <th>EdLevel</th>\n",
       "      <th>MeanSalary</th>\n",
       "    </tr>\n",
       "  </thead>\n",
       "  <tbody>\n",
       "    <tr>\n",
       "      <th>2</th>\n",
       "      <td>No Formal Education</td>\n",
       "      <td>77815.617577</td>\n",
       "    </tr>\n",
       "    <tr>\n",
       "      <th>5</th>\n",
       "      <td>Primary/elementary school</td>\n",
       "      <td>61259.919437</td>\n",
       "    </tr>\n",
       "    <tr>\n",
       "      <th>7</th>\n",
       "      <td>Secondary school</td>\n",
       "      <td>62861.564663</td>\n",
       "    </tr>\n",
       "    <tr>\n",
       "      <th>8</th>\n",
       "      <td>College/Uni(No degree)</td>\n",
       "      <td>81360.607892</td>\n",
       "    </tr>\n",
       "    <tr>\n",
       "      <th>0</th>\n",
       "      <td>Associate degree</td>\n",
       "      <td>80651.505094</td>\n",
       "    </tr>\n",
       "    <tr>\n",
       "      <th>1</th>\n",
       "      <td>Bachelor’s degree</td>\n",
       "      <td>87499.211650</td>\n",
       "    </tr>\n",
       "    <tr>\n",
       "      <th>3</th>\n",
       "      <td>Master’s degree</td>\n",
       "      <td>92399.707719</td>\n",
       "    </tr>\n",
       "    <tr>\n",
       "      <th>6</th>\n",
       "      <td>Professional degree</td>\n",
       "      <td>64883.347403</td>\n",
       "    </tr>\n",
       "    <tr>\n",
       "      <th>4</th>\n",
       "      <td>Doctoral Degree</td>\n",
       "      <td>120742.088731</td>\n",
       "    </tr>\n",
       "  </tbody>\n",
       "</table>\n",
       "</div>"
      ],
      "text/plain": [
       "                     EdLevel     MeanSalary\n",
       "2        No Formal Education   77815.617577\n",
       "5  Primary/elementary school   61259.919437\n",
       "7           Secondary school   62861.564663\n",
       "8     College/Uni(No degree)   81360.607892\n",
       "0           Associate degree   80651.505094\n",
       "1          Bachelor’s degree   87499.211650\n",
       "3            Master’s degree   92399.707719\n",
       "6        Professional degree   64883.347403\n",
       "4            Doctoral Degree  120742.088731"
      ]
     },
     "execution_count": 150,
     "metadata": {},
     "output_type": "execute_result"
    }
   ],
   "source": [
    "edlevel_vs_salary = edlevel_vs_salary.iloc[[2, 5, 7, 8, 0, 1, 3, 6, 4], :]\n",
    "edlevel_vs_salary.loc[[2, 8, 4], \"EdLevel\"] = [\"No Formal Education\", \"College/Uni(No degree)\", \"Doctoral Degree\"]\n",
    "edlevel_vs_salary"
   ]
  },
  {
   "cell_type": "code",
   "execution_count": 151,
   "metadata": {},
   "outputs": [
    {
     "data": {
      "image/png": "[encoded data removed]",
      "text/plain": [
       "<Figure size 1200x700 with 1 Axes>"
      ]
     },
     "metadata": {},
     "output_type": "display_data"
    }
   ],
   "source": [
    "fig, ax = plt.subplots(figsize=(12, 7))\n",
    "sns.despine(bottom=True, left=True)\n",
    "ax=sns.barplot(x=\"EdLevel\", y=\"MeanSalary\", data=edlevel_vs_salary)\n",
    "ax.set_xticks(ticks=range(0, len(edlevel_vs_salary)), labels=edlevel_vs_salary[\"EdLevel\"], rotation=75, color=\"#8C8C8C\")\n",
    "ax.set_yticks(ticks=range(0, 130000, 20000), labels=range(0, 130000, 20000), color=\"#8C8C8C\")\n",
    "ax.set_title(\"Education Level Vs Average Salary\", color=\"#8C8C8C\")\n",
    "ax.set_xlabel(\"Education Level\", color=\"#8C8C8C\")\n",
    "ax.set_ylabel(\"Average Salary\", color=\"#8C8C8C\")\n",
    "plt.show()"
   ]
  },
  {
   "attachments": {},
   "cell_type": "markdown",
   "metadata": {},
   "source": [
    "### Conclusion \n",
    "* There is a general trend that developers with higher education levels tend to earn more.\n",
    "* But the average salary for developers with no formal education is quite high as well, higher than even those with professional degrees."
   ]
  },
  {
   "cell_type": "code",
   "execution_count": null,
   "metadata": {},
   "outputs": [],
   "source": []
  },
  {
   "cell_type": "markdown",
   "metadata": {},
   "source": [
    "## Developers By Country\n",
    "Let's get the top 5 countries with highest number of Developers"
   ]
  },
  {
   "cell_type": "code",
   "execution_count": 152,
   "metadata": {},
   "outputs": [
    {
     "data": {
      "text/plain": [
       "United States               28548\n",
       "United States of America    16684\n",
       "India                        9584\n",
       "United Kingdom               8613\n",
       "Germany                      8145\n",
       "                            ...  \n",
       "Seychelles                      1\n",
       "Eritrea                         1\n",
       "Sierra Leone                    1\n",
       "Gambia                          1\n",
       "North Korea                     1\n",
       "Name: Country, Length: 182, dtype: int64"
      ]
     },
     "execution_count": 152,
     "metadata": {},
     "output_type": "execute_result"
    }
   ],
   "source": [
    "combined_df[\"Country\"].value_counts()"
   ]
  },
  {
   "cell_type": "code",
   "execution_count": 161,
   "metadata": {},
   "outputs": [],
   "source": [
    "# United states has more two different values i.e United States and United States of America.\n",
    "# Same for United Kingdom\n",
    "# Should make them same because they represent the same country.\n",
    "combined_df.loc[combined_df[\"Country\"] == \"United States of America\", \"Country\"] = \"United States\"\n",
    "combined_df.loc[combined_df[\"Country\"] == \"United Kingdom of Great Britain and Northern Ireland\", \"Country\"] \\\n",
    "    = \"United Kingdom\""
   ]
  },
  {
   "cell_type": "code",
   "execution_count": 177,
   "metadata": {},
   "outputs": [
    {
     "data": {
      "text/html": [
       "<div>\n",
       "<style scoped>\n",
       "    .dataframe tbody tr th:only-of-type {\n",
       "        vertical-align: middle;\n",
       "    }\n",
       "\n",
       "    .dataframe tbody tr th {\n",
       "        vertical-align: top;\n",
       "    }\n",
       "\n",
       "    .dataframe thead th {\n",
       "        text-align: right;\n",
       "    }\n",
       "</style>\n",
       "<table border=\"1\" class=\"dataframe\">\n",
       "  <thead>\n",
       "    <tr style=\"text-align: right;\">\n",
       "      <th></th>\n",
       "      <th>Country</th>\n",
       "      <th>NoDevs</th>\n",
       "    </tr>\n",
       "  </thead>\n",
       "  <tbody>\n",
       "    <tr>\n",
       "      <th>0</th>\n",
       "      <td>United States</td>\n",
       "      <td>45232</td>\n",
       "    </tr>\n",
       "    <tr>\n",
       "      <th>1</th>\n",
       "      <td>India</td>\n",
       "      <td>9584</td>\n",
       "    </tr>\n",
       "    <tr>\n",
       "      <th>2</th>\n",
       "      <td>United Kingdom</td>\n",
       "      <td>8647</td>\n",
       "    </tr>\n",
       "    <tr>\n",
       "      <th>3</th>\n",
       "      <td>Germany</td>\n",
       "      <td>8145</td>\n",
       "    </tr>\n",
       "    <tr>\n",
       "      <th>4</th>\n",
       "      <td>Canada</td>\n",
       "      <td>4416</td>\n",
       "    </tr>\n",
       "    <tr>\n",
       "      <th>...</th>\n",
       "      <td>...</td>\n",
       "      <td>...</td>\n",
       "    </tr>\n",
       "    <tr>\n",
       "      <th>175</th>\n",
       "      <td>Grenada</td>\n",
       "      <td>1</td>\n",
       "    </tr>\n",
       "    <tr>\n",
       "      <th>176</th>\n",
       "      <td>Chad</td>\n",
       "      <td>1</td>\n",
       "    </tr>\n",
       "    <tr>\n",
       "      <th>177</th>\n",
       "      <td>Gambia</td>\n",
       "      <td>1</td>\n",
       "    </tr>\n",
       "    <tr>\n",
       "      <th>178</th>\n",
       "      <td>Eritrea</td>\n",
       "      <td>1</td>\n",
       "    </tr>\n",
       "    <tr>\n",
       "      <th>179</th>\n",
       "      <td>Niger</td>\n",
       "      <td>1</td>\n",
       "    </tr>\n",
       "  </tbody>\n",
       "</table>\n",
       "<p>180 rows × 2 columns</p>\n",
       "</div>"
      ],
      "text/plain": [
       "            Country  NoDevs\n",
       "0     United States   45232\n",
       "1             India    9584\n",
       "2    United Kingdom    8647\n",
       "3           Germany    8145\n",
       "4            Canada    4416\n",
       "..              ...     ...\n",
       "175         Grenada       1\n",
       "176            Chad       1\n",
       "177          Gambia       1\n",
       "178         Eritrea       1\n",
       "179           Niger       1\n",
       "\n",
       "[180 rows x 2 columns]"
      ]
     },
     "execution_count": 177,
     "metadata": {},
     "output_type": "execute_result"
    }
   ],
   "source": [
    "devs_by_country = combined_df.groupby(\"Country\").size().reset_index(name=\"NoDevs\")\\\n",
    "    .sort_values(by=\"NoDevs\", ascending=False).reset_index(drop=True)\n",
    "devs_by_country"
   ]
  },
  {
   "cell_type": "code",
   "execution_count": 183,
   "metadata": {},
   "outputs": [
    {
     "data": {
      "text/html": [
       "<div>\n",
       "<style scoped>\n",
       "    .dataframe tbody tr th:only-of-type {\n",
       "        vertical-align: middle;\n",
       "    }\n",
       "\n",
       "    .dataframe tbody tr th {\n",
       "        vertical-align: top;\n",
       "    }\n",
       "\n",
       "    .dataframe thead th {\n",
       "        text-align: right;\n",
       "    }\n",
       "</style>\n",
       "<table border=\"1\" class=\"dataframe\">\n",
       "  <thead>\n",
       "    <tr style=\"text-align: right;\">\n",
       "      <th></th>\n",
       "      <th>Country</th>\n",
       "      <th>NoDevs</th>\n",
       "    </tr>\n",
       "  </thead>\n",
       "  <tbody>\n",
       "    <tr>\n",
       "      <th>2</th>\n",
       "      <td>Others</td>\n",
       "      <td>65682</td>\n",
       "    </tr>\n",
       "    <tr>\n",
       "      <th>4</th>\n",
       "      <td>United States</td>\n",
       "      <td>45232</td>\n",
       "    </tr>\n",
       "    <tr>\n",
       "      <th>1</th>\n",
       "      <td>India</td>\n",
       "      <td>9584</td>\n",
       "    </tr>\n",
       "    <tr>\n",
       "      <th>3</th>\n",
       "      <td>United Kingdom</td>\n",
       "      <td>8647</td>\n",
       "    </tr>\n",
       "    <tr>\n",
       "      <th>0</th>\n",
       "      <td>Germany</td>\n",
       "      <td>8145</td>\n",
       "    </tr>\n",
       "  </tbody>\n",
       "</table>\n",
       "</div>"
      ],
      "text/plain": [
       "          Country  NoDevs\n",
       "2          Others   65682\n",
       "4   United States   45232\n",
       "1           India    9584\n",
       "3  United Kingdom    8647\n",
       "0         Germany    8145"
      ]
     },
     "execution_count": 183,
     "metadata": {},
     "output_type": "execute_result"
    }
   ],
   "source": [
    "top5 = dev_by_country.iloc[:5, 0].values.tolist()\n",
    "devs_by_country.loc[~devs_by_country[\"Country\"].isin(top5), \"Country\"] = \"Others\"\n",
    "top_devs = devs_by_country.groupby(\"Country\").sum().reset_index()\\\n",
    "    .sort_values(by=\"NoDevs\", ascending=False)\n",
    "top_devs"
   ]
  },
  {
   "cell_type": "code",
   "execution_count": 204,
   "metadata": {},
   "outputs": [
    {
     "data": {
      "image/png": "[encoded data removed]",
      "text/plain": [
       "<Figure size 1200x700 with 1 Axes>"
      ]
     },
     "metadata": {},
     "output_type": "display_data"
    }
   ],
   "source": [
    "fig, ax = plt.subplots(figsize=(12, 7))\n",
    "plt.pie(\n",
    "    x=top_devs[\"NoDevs\"],\n",
    "    labels=top_devs[\"Country\"],\n",
    "    autopct=\"%.2f%%\",\n",
    "    colors=[\"Violet\", \"blue\", \"teal\", \"purple\", \"green\"],\n",
    "    textprops={'color':\"#8C8C8C\"},\n",
    "    startangle=90,\n",
    "    counterclock=False\n",
    ")\n",
    "plt.show()"
   ]
  },
  {
   "attachments": {},
   "cell_type": "markdown",
   "metadata": {},
   "source": [
    "#### Conclusion\n",
    "* The top 4 countries are USA, India, Germany and United Kingdom.\n",
    "* Together thay accounted for more than 50% of the total number of developers over the 5 years."
   ]
  },
  {
   "cell_type": "markdown",
   "metadata": {},
   "source": []
  }
 ],
 "metadata": {
  "kernelspec": {
   "display_name": "base",
   "language": "python",
   "name": "python3"
  },
  "language_info": {
   "codemirror_mode": {
    "name": "ipython",
    "version": 3
   },
   "file_extension": ".py",
   "mimetype": "text/x-python",
   "name": "python",
   "nbconvert_exporter": "python",
   "pygments_lexer": "ipython3",
   "version": "3.9.13"
  },
  "orig_nbformat": 4
 },
 "nbformat": 4,
 "nbformat_minor": 2
}
